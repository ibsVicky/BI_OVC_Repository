{
 "cells": [
  {
   "cell_type": "code",
   "execution_count": 0,
   "metadata": {
    "application/vnd.databricks.v1+cell": {
     "cellMetadata": {
      "byteLimit": 2048000,
      "rowLimit": 10000
     },
     "inputWidgets": {},
     "nuid": "4d34753f-5f14-47ef-9d26-7713e1b0afd1",
     "showTitle": false,
     "tableResultSettingsMap": {},
     "title": ""
    }
   },
   "outputs": [],
   "source": [
    "#IMPORT LIBRARIES\n",
    "from pyspark.sql import SparkSession\n",
    "import json\n",
    "import sys\n",
    "import importlib\n",
    "import pyspark.sql.functions as F\n",
    "from pyspark.sql.types import StructType\n",
    "\n",
    "from delta.tables import DeltaTable\n"
   ]
  },
  {
   "cell_type": "code",
   "execution_count": 0,
   "metadata": {
    "application/vnd.databricks.v1+cell": {
     "cellMetadata": {
      "byteLimit": 2048000,
      "rowLimit": 10000
     },
     "inputWidgets": {},
     "nuid": "8018f497-49b7-41d4-b4eb-c074da317b6a",
     "showTitle": false,
     "tableResultSettingsMap": {},
     "title": ""
    }
   },
   "outputs": [],
   "source": [
    "#CREATE PYSPARK SESSION\n",
    "\n",
    "spark = SparkSession.builder \\\n",
    "    .appName(\"bi-ovc-test\") \\\n",
    "    .getOrCreate()"
   ]
  },
  {
   "cell_type": "code",
   "execution_count": 0,
   "metadata": {
    "application/vnd.databricks.v1+cell": {
     "cellMetadata": {
      "byteLimit": 2048000,
      "rowLimit": 10000
     },
     "inputWidgets": {},
     "nuid": "a6f16f23-ffe6-4b9f-8e44-5c4ada51fec9",
     "showTitle": false,
     "tableResultSettingsMap": {},
     "title": ""
    }
   },
   "outputs": [],
   "source": [
    "#GET GENERAL CONFIGURATION FROM EXTERNAL WORKBOOKS\n",
    "\n",
    "# Execute config notebook\n",
    "# 360 is the time in sec before timeout\n",
    "subject_area = \"bi-ovc\"\n",
    "\n",
    "config_str = dbutils.notebook.run(\"../config/ibs-config\", 360, {\"subject_area\": subject_area})\n",
    "config = json.loads(config_str)\n",
    "\n"
   ]
  },
  {
   "cell_type": "code",
   "execution_count": 0,
   "metadata": {
    "application/vnd.databricks.v1+cell": {
     "cellMetadata": {
      "byteLimit": 2048000,
      "rowLimit": 10000
     },
     "inputWidgets": {},
     "nuid": "0c6fb491-c24e-40c7-913d-d8fb2d4b9383",
     "showTitle": false,
     "tableResultSettingsMap": {},
     "title": ""
    }
   },
   "outputs": [],
   "source": [
    "env = 'dev'\n",
    "bronze_generic_path = config[subject_area]['bronze']\n",
    "silver_generic_path = config[subject_area]['silver']\n",
    "\n",
    "source_system = 'SAPBR'\n",
    "\n",
    "sourceSchema = \"bronze-bi-ovc-sapbr\"\n",
    "targetSchema = \"silver-bi-ovc-sapbr\"\n",
    "\n",
    "sourceFolder = \"fin_cost_act/sapbr\"\n",
    "targetFolder = \"fin_cost_act/sapbr\"\n",
    "\n",
    "sourceLayer = \"bronze\"\n",
    "targetLayer = \"silver\"\n",
    "\n",
    "sourceTable = \"bi_ovc_sapbr_bronze\"\n",
    "targetTable = \"bi_ovc_sapbr_silver\""
   ]
  },
  {
   "cell_type": "code",
   "execution_count": 0,
   "metadata": {
    "application/vnd.databricks.v1+cell": {
     "cellMetadata": {
      "byteLimit": 2048000,
      "rowLimit": 10000
     },
     "inputWidgets": {},
     "nuid": "e9eee722-9b78-4e1f-a770-f159aef86c14",
     "showTitle": false,
     "tableResultSettingsMap": {},
     "title": ""
    }
   },
   "outputs": [],
   "source": [
    "# READ SOURCE SCHEMA\n",
    "params_sch = {\n",
    "    \"bi-ovc-sch\": sourceSchema\n",
    "}\n",
    "\n",
    "try:\n",
    "    all_sch_config_str = dbutils.notebook.run(\"schema/bi-ovc-schema\", 360, params_sch)\n",
    "    all_sch_config = json.loads(all_sch_config_str) #load all elements\n",
    "    \n",
    "    src_schema = StructType.fromJson(all_sch_config[\"bi-ovc-sch\"])\n",
    "\n",
    "except Exception as e:\n",
    "    print(f\"[ERROR] Execution of bi-ovc-schema notebook failed: {e}\")\n",
    "    raise\n"
   ]
  },
  {
   "cell_type": "code",
   "execution_count": 0,
   "metadata": {
    "application/vnd.databricks.v1+cell": {
     "cellMetadata": {
      "byteLimit": 2048000,
      "rowLimit": 10000
     },
     "inputWidgets": {},
     "nuid": "eb3d9fa1-41eb-4dde-adcf-a58c4cef7f4c",
     "showTitle": false,
     "tableResultSettingsMap": {},
     "title": ""
    }
   },
   "outputs": [],
   "source": [
    "# READ TARGET SCHEMA\n",
    "params_sch = {\n",
    "    \"bi-ovc-sch\": targetSchema\n",
    "}\n",
    "\n",
    "try:\n",
    "    all_sch_config_str = dbutils.notebook.run(\"schema/bi-ovc-schema\", 360, params_sch)\n",
    "    all_sch_config = json.loads(all_sch_config_str) #load all elements\n",
    "    \n",
    "    trgt_schema = StructType.fromJson(all_sch_config[\"bi-ovc-sch\"])\n",
    "\n",
    "except Exception as e:\n",
    "    print(f\"[ERROR] Execution of bi-ovc-schema notebook failed: {e}\")\n",
    "    raise\n"
   ]
  },
  {
   "cell_type": "code",
   "execution_count": 0,
   "metadata": {
    "application/vnd.databricks.v1+cell": {
     "cellMetadata": {
      "byteLimit": 2048000,
      "rowLimit": 10000
     },
     "inputWidgets": {},
     "nuid": "814864e2-590a-4583-bec3-a4a83ce01b25",
     "showTitle": false,
     "tableResultSettingsMap": {},
     "title": ""
    }
   },
   "outputs": [],
   "source": [
    "# get current data from Bronze\n",
    "source_path = bronze_generic_path + sourceFolder \n",
    "df_brz = []\n",
    "\n",
    "try:\n",
    "    # check file existense in DBFS\n",
    "    dbutils.fs.ls(source_path)\n",
    "\n",
    "    # read table\n",
    "    df_brz = spark.read.format(\"delta\").load(source_path)\n",
    "except Exception as e:\n",
    "    print(f\"xxx Can't read Delta {source_path}: {e}\")\n",
    "    raise\n",
    "\n",
    "df_brz = df_brz.where(F.col('DW_CURR_ROW_FLG') == F.lit(True)) #filtro los current\n",
    "df_brz = df_brz.drop('DW_VALID_FROM_DT','DW_VALID_TO_DT') #elimino estos campos porque en silver van con la nueva fecha y hora\n",
    "df_brz = df_brz.withColumn(\"POSTING_MTH_ID\",F.date_format(F.to_date(\"POSTING_DATE\", \"yyyyMMdd\"), \"yyyyMM\"))\n",
    "\n",
    "#get last version available per month\n",
    "df_brz_last_version = df_brz.groupBy(\"POSTING_MTH_ID\").agg(\n",
    "    F.max(\"DW_FILE_NAME\").alias(\"DW_FILE_NAME\")\n",
    ")\n",
    "\n",
    "#display(df_brz)"
   ]
  },
  {
   "cell_type": "code",
   "execution_count": 0,
   "metadata": {
    "application/vnd.databricks.v1+cell": {
     "cellMetadata": {
      "byteLimit": 2048000,
      "rowLimit": 10000
     },
     "inputWidgets": {},
     "nuid": "1da1cbe7-0db4-495b-b5a7-38afebd9556b",
     "showTitle": false,
     "tableResultSettingsMap": {
      "0": {
       "dataGridStateBlob": "{\"version\":1,\"tableState\":{\"columnPinning\":{\"left\":[\"#row_number#\"],\"right\":[]},\"columnSizing\":{},\"columnVisibility\":{}},\"settings\":{\"columns\":{}},\"syncTimestamp\":1758707471501}",
       "filterBlob": null,
       "queryPlanFiltersBlob": null,
       "tableResultIndex": 0
      }
     },
     "title": ""
    }
   },
   "outputs": [],
   "source": [
    "#display(df_brz_last_version)"
   ]
  },
  {
   "cell_type": "code",
   "execution_count": 0,
   "metadata": {
    "application/vnd.databricks.v1+cell": {
     "cellMetadata": {
      "byteLimit": 2048000,
      "rowLimit": 10000
     },
     "inputWidgets": {},
     "nuid": "2c2f9a2c-2f58-4b35-a7e9-122ff71d6fc5",
     "showTitle": false,
     "tableResultSettingsMap": {},
     "title": ""
    }
   },
   "outputs": [],
   "source": [
    "#GET LAST DATA AVAILABLE \n",
    "\n",
    "df_brz = (\n",
    "    df_brz.join(\n",
    "        df_brz_last_version,\n",
    "        on=[\"DW_FILE_NAME\", \"POSTING_MTH_ID\"],  # clave de unión\n",
    "        how=\"inner\"\n",
    "    )\n",
    ")\n",
    "\n",
    "#display(df_brz)"
   ]
  },
  {
   "cell_type": "code",
   "execution_count": 0,
   "metadata": {
    "application/vnd.databricks.v1+cell": {
     "cellMetadata": {
      "byteLimit": 2048000,
      "rowLimit": 10000
     },
     "inputWidgets": {},
     "nuid": "cbdd7bd1-dc37-486b-8690-74ba58e41816",
     "showTitle": false,
     "tableResultSettingsMap": {},
     "title": ""
    }
   },
   "outputs": [],
   "source": [
    "#WRITE IN SILVER\n",
    "\n",
    "target_path = silver_generic_path + targetFolder \n",
    "\n",
    "try:\n",
    "    dbutils.fs.ls(target_path)\n",
    "except:\n",
    "    dbutils.fs.mkdirs(target_path)\n",
    "\n",
    "df_slv = []\n",
    "\n",
    "# check if target is an existing delta table, if not will create it\n",
    "if DeltaTable.isDeltaTable(spark, target_path):\n",
    "\n",
    "    delta_table = DeltaTable.forPath(spark, target_path)\n",
    "\n",
    "    # tomo los registros de silver que actualmente están current\n",
    "    df_slv = (\n",
    "        spark.read.format(\"delta\").load(target_path)\n",
    "        .filter(F.col('DW_CURR_ROW_FLG') == F.lit(True))\n",
    "        .drop('DW_VALID_FROM_DT','DW_VALID_TO_DT')\n",
    "    )\n",
    "    df_slv = df_slv.withColumn(\"POSTING_MTH_ID\",F.date_format(F.to_date(\"POSTING_DATE\", \"yyyyMMdd\"), \"yyyyMM\"))\n",
    "\n",
    "    #me quedo con los que van a ser reprocesados para cambiar su current a false\n",
    "    df_slv_reprocess = (\n",
    "        df_slv.join(\n",
    "            df_brz_last_version,\n",
    "            on=[\"POSTING_MTH_ID\"],  # clave de unión\n",
    "            how=\"inner\"\n",
    "        )\n",
    "    ).select(\"POSTING_MTH_ID\").distinct()\n",
    "    \n",
    "    # set records to reprocess in false\n",
    "    delta_table.alias(\"tgt\").merge(\n",
    "        df_slv_reprocess.alias(\"src\"),\n",
    "        \"tgt.POSTING_MTH_ID = src.POSTING_MTH_ID\"\n",
    "    ).whenMatchedUpdate(\n",
    "        condition=\"tgt.DW_CURR_ROW_FLG = true\",\n",
    "        set={\n",
    "            \"DW_CURR_ROW_FLG\": F.lit(False),\n",
    "            \"DW_VALID_TO_DT\": F.from_utc_timestamp(F.current_timestamp(), \"Brazil/East\")\n",
    "        }\n",
    "    ).execute()\n",
    "    \n",
    "    df_brz.withColumn('DW_VALID_FROM_DT', F.from_utc_timestamp(F.current_timestamp(), \"Brazil/East\")) \\\n",
    "        .withColumn('DW_VALID_TO_DT', F.lit(None).cast(\"timestamp\")) \\\n",
    "        .withColumn('DW_CURR_ROW_FLG', F.lit(True))\n",
    "\n",
    "\n",
    "    df_brz.write.format(\"delta\").mode(\"append\").save(target_path)\n",
    "\n",
    "else:\n",
    "    # Crear tabla Delta inicial con DW columns\n",
    "    new_data = (\n",
    "        df_brz\n",
    "        .withColumn('DW_VALID_FROM_DT', F.from_utc_timestamp(F.current_timestamp(), \"Brazil/East\"))\n",
    "        .withColumn('DW_VALID_TO_DT', F.lit(None).cast(\"timestamp\"))\n",
    "        .withColumn('DW_CURR_ROW_FLG', F.lit(True))\n",
    "    )\n",
    "    # Grabar como nueva Delta Table\n",
    "    new_data.write.format(\"delta\").mode(\"append\").save(target_path)\n"
   ]
  },
  {
   "cell_type": "code",
   "execution_count": 0,
   "metadata": {
    "application/vnd.databricks.v1+cell": {
     "cellMetadata": {
      "byteLimit": 2048000,
      "rowLimit": 10000
     },
     "inputWidgets": {},
     "nuid": "3d68cbf5-f130-4a8a-8ee9-3d858b3b00cd",
     "showTitle": false,
     "tableResultSettingsMap": {},
     "title": ""
    }
   },
   "outputs": [],
   "source": [
    "#table = \"`bi-ovc`\" + \".test.bi_ovc_sapbr_silver\" \n",
    "#spark.sql(\"DROP TABLE IF EXISTS \" + table + \"\")\n",
    "#spark.sql(\"CREATE TABLE IF NOT EXISTS \" + table + \" USING DELTA LOCATION '\" +  silver_generic_path + targetFolder + \"'\")"
   ]
  }
 ],
 "metadata": {
  "application/vnd.databricks.v1+notebook": {
   "computePreferences": null,
   "dashboards": [],
   "environmentMetadata": {
    "base_environment": "",
    "environment_version": "3"
   },
   "inputWidgetPreferences": null,
   "language": "python",
   "notebookMetadata": {
    "mostRecentlyExecutedCommandWithImplicitDF": {
     "commandId": 8585516552376328,
     "dataframes": [
      "_sqldf"
     ]
    },
    "pythonIndentUnit": 4
   },
   "notebookName": "Load Finance - bronze to silver",
   "widgets": {}
  },
  "language_info": {
   "name": "python"
  }
 },
 "nbformat": 4,
 "nbformat_minor": 0
}
