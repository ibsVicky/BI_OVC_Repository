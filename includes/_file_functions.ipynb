{
 "cells": [
  {
   "cell_type": "code",
   "execution_count": 0,
   "metadata": {
    "application/vnd.databricks.v1+cell": {
     "cellMetadata": {
      "byteLimit": 2048000,
      "rowLimit": 10000
     },
     "inputWidgets": {},
     "nuid": "a16751c3-b515-4fb9-8f00-94a10da662d4",
     "showTitle": false,
     "tableResultSettingsMap": {},
     "title": ""
    }
   },
   "outputs": [],
   "source": [
    "import re\n",
    "import pandas as pd\n",
    "from datetime import datetime"
   ]
  },
  {
   "cell_type": "code",
   "execution_count": 0,
   "metadata": {
    "application/vnd.databricks.v1+cell": {
     "cellMetadata": {
      "byteLimit": 2048000,
      "rowLimit": 10000
     },
     "inputWidgets": {},
     "nuid": "b108dcc4-1f78-48a0-a2a2-5d9ce5355fb2",
     "showTitle": false,
     "tableResultSettingsMap": {},
     "title": ""
    }
   },
   "outputs": [],
   "source": [
    "def check_filename(mask,filenamePrefix,filenameExtension,filenameFull):\n",
    "\n",
    "    file_name_check = True\n",
    "    place_holders_dict = {}\n",
    "\n",
    "    place_holders_dict = {\n",
    "        \"fileName\": 0,\n",
    "        \"sourceSystem\": 0,\n",
    "        \"yyyymmdd\": 0,\n",
    "        \"hhmmss\": 0,\n",
    "        \"fileExtension\": 0\n",
    "    }\n",
    "\n",
    "\n",
    "    file_name = filenameFull[0:filenameFull.find(\".\")] + '.' #I leave the dot at the end to avoid future errors\n",
    "    file_ext = filenameFull[len(file_name):]\n",
    "\n",
    "    place_holders_mask = re.findall(r\"\\{(.*?)\\}\", mask)\n",
    "\n",
    "    for placeholder in place_holders_mask:\n",
    "        if placeholder in place_holders_dict:\n",
    "            place_holders_dict[placeholder] = 1\n",
    "    \n",
    "    for key, value in place_holders_dict.items():\n",
    "        #FILE_NAME_PREFIX_CHECK\n",
    "        if value == 1 and key == \"fileName\":\n",
    "            if file_name.startswith(filenamePrefix + \"_\"):\n",
    "                place_holders_dict[key] = 1\n",
    "                file_name_already_validated = filenamePrefix\n",
    "                continue\n",
    "            else: \n",
    "                file_name_check = False \n",
    "                return file_name_check\n",
    "        \n",
    "        #SOURCE_SYSTEM_CHECK\n",
    "        if value == 1 and key == \"sourceSystem\":\n",
    "            start_index = len(filenamePrefix) + 1\n",
    "            end_index = file_name.find(\"_\", start_index)\n",
    "\n",
    "            sourceSystem = file_name[start_index:end_index]\n",
    "            \n",
    "            if 1==1:  #PENDING acá habría que ver cómo validar que el source system sea correcto, o si se devuelve o qué se hace\n",
    "                place_holders_dict[key] = 1\n",
    "                file_name_already_validated = file_name_already_validated + \"_\" + sourceSystem\n",
    "                continue\n",
    "            else: \n",
    "                file_name_check = False \n",
    "                return file_name_check\n",
    "\n",
    "        #DATE_CHECK\n",
    "        if value == 1 and key == \"yyyymmdd\":\n",
    "            start_index = file_name.find(\"_\", len(file_name_already_validated)) + 1\n",
    "            end_index = file_name.find(\"_\", start_index)\n",
    "\n",
    "            fecha_str = file_name[start_index:end_index]\n",
    "            \n",
    "            try:\n",
    "                if len(fecha_str) == len(\"yyyymmdd\"):\n",
    "                    datetime.strptime(fecha_str, \"%Y%m%d\")\n",
    "                    place_holders_dict[key] = 1\n",
    "                    file_name_already_validated = file_name_already_validated + '_' + fecha_str\n",
    "                    continue\n",
    "                else:\n",
    "                    file_name_check = False \n",
    "                    return file_name_check \n",
    "            except:\n",
    "                file_name_check = False \n",
    "                return file_name_check\n",
    "\n",
    "        #TIME_CHECK\n",
    "        if value == 1 and key == \"hhmmss\":\n",
    "            start_index = file_name.find(\"_\", len(file_name_already_validated)) + 1\n",
    "            end_index = file_name.find(\"_\", start_index)\n",
    "\n",
    "            hora_str = file_name[start_index:end_index]\n",
    "            \n",
    "            if len(hora_str) == len(\"hhmmss\") and pd.to_datetime(hora_str, format=\"%H%M%S\", errors=\"coerce\") is not pd.NaT:\n",
    "                place_holders_dict[key] = 1\n",
    "                file_name_already_validated = file_name_already_validated + '_' + hora_str\n",
    "                continue\n",
    "            else:\n",
    "                file_name_check = False \n",
    "                return file_name_check\n",
    "\n",
    "        #FILE_EXTENSION_CHECK\n",
    "        if value == 1 and key == \"fileExtension\":\n",
    "            if file_ext == filenameExtension:\n",
    "                place_holders_dict[key] = 1\n",
    "                file_name_already_validated = file_name_already_validated + '.' + file_ext\n",
    "                continue\n",
    "            else:\n",
    "                file_name_check = False \n",
    "                return file_name_check\n",
    "    \n",
    "    return file_name_check"
   ]
  }
 ],
 "metadata": {
  "application/vnd.databricks.v1+notebook": {
   "computePreferences": null,
   "dashboards": [],
   "environmentMetadata": {
    "base_environment": "",
    "environment_version": "3"
   },
   "inputWidgetPreferences": null,
   "language": "python",
   "notebookMetadata": {
    "pythonIndentUnit": 4
   },
   "notebookName": "_file_functions",
   "widgets": {}
  },
  "language_info": {
   "name": "python"
  }
 },
 "nbformat": 4,
 "nbformat_minor": 0
}
