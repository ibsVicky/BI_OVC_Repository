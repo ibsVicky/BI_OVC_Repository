{
 "cells": [
  {
   "cell_type": "code",
   "execution_count": 0,
   "metadata": {
    "application/vnd.databricks.v1+cell": {
     "cellMetadata": {
      "byteLimit": 2048000,
      "implicitDf": true,
      "rowLimit": 10000
     },
     "inputWidgets": {},
     "nuid": "8d00efcc-541e-4b53-8411-7010a5ea97a9",
     "showTitle": false,
     "tableResultSettingsMap": {},
     "title": ""
    }
   },
   "outputs": [],
   "source": [
    "%sql\n",
    "/****************************************************************/\n",
    "/* SCHEMAS                                                      */\n",
    "/****************************************************************/\n",
    "CREATE SCHEMA IF NOT EXISTS `latam-md-finance`.control;\n",
    "CREATE SCHEMA IF NOT EXISTS `latam-md-finance`.bronze;\n",
    "CREATE SCHEMA IF NOT EXISTS `latam-md-finance`.bronze_rejected;"
   ]
  },
  {
   "cell_type": "markdown",
   "metadata": {
    "application/vnd.databricks.v1+cell": {
     "cellMetadata": {},
     "inputWidgets": {},
     "nuid": "22a55434-c9d6-4cbb-bb9d-e32ff9c0d9aa",
     "showTitle": false,
     "tableResultSettingsMap": {},
     "title": ""
    }
   },
   "source": [
    "**CONTROL**"
   ]
  },
  {
   "cell_type": "code",
   "execution_count": 0,
   "metadata": {
    "application/vnd.databricks.v1+cell": {
     "cellMetadata": {
      "byteLimit": 2048000,
      "implicitDf": true,
      "rowLimit": 10000
     },
     "inputWidgets": {},
     "nuid": "ea480c24-cabb-4fba-812e-e3ec4bc57e48",
     "showTitle": false,
     "tableResultSettingsMap": {},
     "title": ""
    }
   },
   "outputs": [],
   "source": [
    "%sql\n",
    "--Register bucket as external location\n",
    "\n",
    "CREATE EXTERNAL LOCATION `latam-md-finance-control`\n",
    "URL 's3://latam-md-finance-control/'\n",
    "WITH (STORAGE CREDENTIAL `ibs-external-storage_awsiamrole_1749223868654`);\n"
   ]
  },
  {
   "cell_type": "code",
   "execution_count": 0,
   "metadata": {
    "application/vnd.databricks.v1+cell": {
     "cellMetadata": {
      "byteLimit": 2048000,
      "implicitDf": true,
      "rowLimit": 10000
     },
     "inputWidgets": {},
     "nuid": "4e2d3350-f4f2-444a-8dd3-9ccf157b349d",
     "showTitle": false,
     "tableResultSettingsMap": {},
     "title": ""
    }
   },
   "outputs": [],
   "source": [
    "%sql\n",
    "\n",
    "CREATE TABLE `latam-md-finance`.control.sys_process_setup (\n",
    "  process_setup_id BIGINT GENERATED ALWAYS AS IDENTITY COMMENT 'Process Source id (Autonumeric)',\n",
    "  process_setup_name STRING NOT NULL COMMENT 'Process Name (Unique)',\n",
    "  process_setup_step_number INT NOT NULL COMMENT 'Process Step Number',\n",
    "  process_setup_step_name STRING NOT NULL COMMENT 'Process Step Name',\n",
    "  process_setup_source_layer STRING COMMENT 'Source Layer (raw/bronze/silver/gold)',\n",
    "  process_setup_source_bucket_name STRING COMMENT 'Source Bucket Name',\n",
    "  process_setup_source_bucket_folder_key STRING COMMENT 'Source Folder path inside bucket',\n",
    "  process_setup_source_file_name STRING COMMENT 'Source File name prefix',\n",
    "  process_setup_source_file_extension STRING COMMENT 'Source File extension',\n",
    "  process_setup_source_file_delimiter STRING COMMENT 'Source File delimiter',\n",
    "  process_setup_source_file_encoding STRING COMMENT 'Source File encoding',\n",
    "  process_setup_source_file_name_mask STRING COMMENT 'Source File name mask',\n",
    "  process_setup_source_file_schema STRING COMMENT 'Source File schema',\n",
    "  process_setup_source_table_name STRING COMMENT 'Source Table name',\n",
    "  process_setup_source_table_schema STRING COMMENT 'Source Table Schema',\n",
    "  process_setup_source_table_catalog STRING COMMENT 'Source Table Catalog',\n",
    "  process_setup_source_data_definition STRING COMMENT 'Source File/table Data Schema Definition',\n",
    "  process_setup_target_layer STRING COMMENT 'Target Layer (raw/bronze/silver/gold)',\n",
    "  process_setup_target_table_name STRING COMMENT 'Target Table name',\n",
    "  process_setup_target_table_schema STRING COMMENT 'Target Table Schema',\n",
    "  process_setup_target_table_catalog STRING COMMENT 'Target Table Catalog',\n",
    "  process_setup_target_data_definition STRING COMMENT 'Target File/table Data Schema Definition',\n",
    "  process_setup_target_bucket_name STRING COMMENT 'Target Bucket Name',\n",
    "  process_setup_target_bucket_folder_key STRING COMMENT 'Target Folder path inside bucket',\n",
    "  process_setup_archive_bucket_name STRING COMMENT 'Archive Bucket Name',\n",
    "  process_setup_archive_bucket_folder_key STRING COMMENT 'Archive Folder path inside bucket',\n",
    "  sys_status_code STRING DEFAULT 'A' NOT NULL COMMENT 'System Row Status Code',\n",
    "  sys_created_by_name STRING DEFAULT 'MANUAL INSERT' NOT NULL COMMENT 'System Created by Name',\n",
    "  sys_created_on TIMESTAMP DEFAULT current_timestamp() NOT NULL COMMENT 'System Created on',\n",
    "  sys_modified_by_name STRING DEFAULT 'MANUAL INSERT' NOT NULL COMMENT 'System Modified by Name',\n",
    "  sys_modified_on TIMESTAMP DEFAULT current_timestamp() NOT NULL COMMENT 'System Modified on'\n",
    ")\n",
    "USING DELTA\n",
    "LOCATION 's3://latam-md-finance-control/sys_process_setup'\n",
    "TBLPROPERTIES ('delta.feature.allowColumnDefaults' = 'supported');"
   ]
  },
  {
   "cell_type": "code",
   "execution_count": 0,
   "metadata": {
    "application/vnd.databricks.v1+cell": {
     "cellMetadata": {
      "byteLimit": 2048000,
      "implicitDf": true,
      "rowLimit": 10000
     },
     "inputWidgets": {},
     "nuid": "7e7a7e5c-311a-4b1c-b01d-2130e02e3dfe",
     "showTitle": false,
     "tableResultSettingsMap": {},
     "title": ""
    }
   },
   "outputs": [],
   "source": [
    "%sql\n",
    "--truncate table `latam-md-finance`.control.sys_process_setup"
   ]
  },
  {
   "cell_type": "code",
   "execution_count": 0,
   "metadata": {
    "application/vnd.databricks.v1+cell": {
     "cellMetadata": {
      "byteLimit": 2048000,
      "implicitDf": true,
      "rowLimit": 10000
     },
     "inputWidgets": {},
     "nuid": "d349c022-2715-46eb-a63d-071519372a97",
     "showTitle": false,
     "tableResultSettingsMap": {},
     "title": ""
    }
   },
   "outputs": [],
   "source": [
    "%sql\n",
    "\n",
    "insert into `latam-md-finance`.control.sys_process_setup(\n",
    "     process_setup_name\n",
    "    ,process_setup_step_number\n",
    "    ,process_setup_step_name\n",
    "    ,process_setup_source_layer\n",
    "    ,process_setup_source_bucket_name\n",
    "    ,process_setup_source_bucket_folder_key\n",
    "    ,process_setup_source_file_name\n",
    "    ,process_setup_source_file_extension\n",
    "    ,process_setup_source_file_delimiter\n",
    "    ,process_setup_source_file_encoding\n",
    "    ,process_setup_source_file_name_mask\n",
    "    ,process_setup_target_layer\n",
    "    ,process_setup_target_bucket_name\n",
    "    ,process_setup_target_bucket_folder_key\n",
    ")\n",
    "values(\n",
    "    'Load BI OVC' process_setup_name\n",
    "    ,1 process_setup_step_number\n",
    "    ,'sharepoint to s3' process_setup_step_name\n",
    "    ,null process_setup_source_layer\n",
    "    ,null process_setup_source_bucket_name\n",
    "    ,null process_setup_source_bucket_folder_key\n",
    "    ,'tdf_fin_variable_cost_act' process_setup_source_file_name\n",
    "    ,'txt' process_setup_source_file_extension\n",
    "    ,'\\\\t' process_setup_source_file_delimiter\n",
    "    ,'ISO-8859-1' process_setup_source_file_encoding\n",
    "    ,'{fileName}_{sourceSystem}_{yyyymmdd}_{hhmmss}.{fileExtension}' process_setup_source_file_name_mask\n",
    "    ,'raw' process_setup_target_layer\n",
    "    ,'latam-md-finance-raw' process_setup_target_bucket_name\n",
    "    ,'tb_fin_variable_cost_act' process_setup_target_bucket_folder_key\n",
    "   );\n"
   ]
  },
  {
   "cell_type": "code",
   "execution_count": 0,
   "metadata": {
    "application/vnd.databricks.v1+cell": {
     "cellMetadata": {
      "byteLimit": 2048000,
      "implicitDf": true,
      "rowLimit": 10000
     },
     "inputWidgets": {},
     "nuid": "ba1e3a7d-a575-4479-8a3a-f1ba0c01501c",
     "showTitle": false,
     "tableResultSettingsMap": {},
     "title": ""
    }
   },
   "outputs": [],
   "source": [
    "%sql\n",
    "insert into `latam-md-finance`.control.sys_process_setup(\n",
    "    process_setup_name\n",
    "    ,process_setup_step_number\n",
    "    ,process_setup_step_name\n",
    "    ,process_setup_source_layer\n",
    "    ,process_setup_source_bucket_name\n",
    "    ,process_setup_source_bucket_folder_key\n",
    "    ,process_setup_source_file_name\n",
    "    ,process_setup_source_file_extension\n",
    "    ,process_setup_source_file_delimiter\n",
    "    ,process_setup_source_file_encoding\n",
    "    ,process_setup_source_file_name_mask\n",
    "    ,process_setup_source_file_schema\n",
    "    ,process_setup_target_layer\n",
    "    ,process_setup_target_table_name\n",
    "    ,process_setup_target_bucket_name\n",
    "    ,process_setup_target_bucket_folder_key\n",
    "    ,process_setup_archive_bucket_name\n",
    "    ,process_setup_archive_bucket_folder_key\n",
    ")\n",
    "values(\n",
    "    'Load BI OVC' process_setup_name\n",
    "    ,2 process_setup_step_number\n",
    "    ,'raw to bronze' process_setup_step_name\n",
    "    ,'raw' process_setup_source_layer\n",
    "    ,'latam-md-finance-raw' process_setup_source_bucket_name\n",
    "    ,'tb_fin_variable_cost_act' process_setup_source_bucket_folder_key\n",
    "    ,'tdf_fin_variable_cost_act' process_setup_source_file_name\n",
    "    ,'txt' process_setup_source_file_extension\n",
    "    ,'\\\\t' process_setup_source_file_delimiter\n",
    "    ,'ISO-8859-1' process_setup_source_file_encoding\n",
    "    ,'{fileName}_{sourceSystem}_{yyyymmdd}_{hhmmss}.{fileExtension}' process_setup_source_file_name_mask\n",
    "    ,'fin-act-raw' process_setup_source_file_schema\n",
    "    ,'bronze' process_setup_target_layer\n",
    "    ,'tb_fin_variable_cost_act' process_setup_target_table_name\n",
    "    ,'latam-md-finance-bronze' process_setup_target_bucket_name\n",
    "    ,'tb_fin_variable_cost_act' process_setup_target_bucket_folder_key\n",
    "    ,'latam-md-finance-archive' process_setup_archive_bucket_name\n",
    "    ,'tb_fin_variable_cost_act' process_setup_archive_bucket_folder_key\n",
    "   );"
   ]
  },
  {
   "cell_type": "code",
   "execution_count": 0,
   "metadata": {
    "application/vnd.databricks.v1+cell": {
     "cellMetadata": {
      "byteLimit": 2048000,
      "implicitDf": true,
      "rowLimit": 10000
     },
     "inputWidgets": {},
     "nuid": "c1aadf4b-7c6e-4233-8c33-41c7f2223323",
     "showTitle": false,
     "tableResultSettingsMap": {},
     "title": ""
    }
   },
   "outputs": [],
   "source": [
    "%sql\n",
    "--truncate table `latam-md-finance`.control.log_process_run"
   ]
  },
  {
   "cell_type": "code",
   "execution_count": 0,
   "metadata": {
    "application/vnd.databricks.v1+cell": {
     "cellMetadata": {
      "byteLimit": 2048000,
      "implicitDf": true,
      "rowLimit": 10000
     },
     "inputWidgets": {},
     "nuid": "8165e0c5-16dd-42f4-ac77-3e3fce895d80",
     "showTitle": false,
     "tableResultSettingsMap": {},
     "title": ""
    }
   },
   "outputs": [],
   "source": [
    "%sql\n",
    "\n",
    "CREATE TABLE `latam-md-finance`.control.log_process_run (\n",
    "    process_run_id BIGINT GENERATED ALWAYS AS IDENTITY COMMENT 'Process Run ID Number (Autonumeric)',\n",
    "    fk_process_setup_id INT COMMENT 'Process Setup id (from sys_process_setup table)',\n",
    "    process_run_cycle_id INT COMMENT 'Data cycle',\n",
    "    process_run_source_file_name STRING COMMENT 'File name of file loaded from source (can be more than one)',\n",
    "    process_run_source_record_count INT COMMENT 'Count of Records from source',\n",
    "    process_run_target_record_count INT COMMENT 'Count of Records loaded in target',\n",
    "    process_run_extract_begin_date STRING COMMENT 'First date of the main extract date',\n",
    "    process_run_extract_end_date STRING COMMENT 'Last date of the main extract date',\n",
    "    process_run_start_date TIMESTAMP COMMENT 'When process start running',\n",
    "    process_run_end_date TIMESTAMP COMMENT 'When process end running',\n",
    "    process_run_last_flag STRING COMMENT 'Active only for the last running',\n",
    "    sys_status_code STRING DEFAULT 'A' NOT NULL COMMENT 'System Row Status Code',\n",
    "    sys_created_by_name STRING DEFAULT 'MANUAL INSERT' NOT NULL COMMENT 'System Created by Name',\n",
    "    sys_created_on TIMESTAMP DEFAULT current_timestamp() NOT NULL COMMENT 'System Created on',\n",
    "    sys_modified_by_name STRING DEFAULT 'MANUAL INSERT' NOT NULL COMMENT 'System Modifed by Name',\n",
    "    sys_modified_on TIMESTAMP DEFAULT current_timestamp() NOT NULL COMMENT 'System Modified on'\n",
    ")\n",
    "USING DELTA\n",
    "LOCATION 's3://latam-md-finance-control/log_process_run'\n",
    "TBLPROPERTIES ('delta.feature.allowColumnDefaults' = 'supported');"
   ]
  },
  {
   "cell_type": "code",
   "execution_count": 0,
   "metadata": {
    "application/vnd.databricks.v1+cell": {
     "cellMetadata": {
      "byteLimit": 2048000,
      "rowLimit": 10000
     },
     "inputWidgets": {},
     "nuid": "fcfd61bb-8a4a-43e0-b584-71f0fd8c7528",
     "showTitle": false,
     "tableResultSettingsMap": {},
     "title": ""
    }
   },
   "outputs": [],
   "source": [
    "#dbutils.fs.rm(\"s3://latam-md-finance-control/object_validation\", recurse=True)"
   ]
  },
  {
   "cell_type": "code",
   "execution_count": 0,
   "metadata": {
    "application/vnd.databricks.v1+cell": {
     "cellMetadata": {
      "byteLimit": 2048000,
      "implicitDf": true,
      "rowLimit": 10000
     },
     "inputWidgets": {},
     "nuid": "9146a7fb-3998-488c-8908-6e2e32679a6f",
     "showTitle": false,
     "tableResultSettingsMap": {},
     "title": ""
    }
   },
   "outputs": [],
   "source": [
    "%sql\n",
    "\n",
    "CREATE TABLE `latam-md-finance`.control.object_validation (\n",
    "    object_validation_id BIGINT GENERATED ALWAYS AS IDENTITY COMMENT 'Object Validation ID Number (Autonumeric)',\n",
    "    fk_process_setup_id INTEGER NOT NULL COMMENT 'Process Setup id (from sys_process_setup table)',\n",
    "    object_validation_type STRING NOT NULL COMMENT 'Object Validation Type (PH, EB)',\n",
    "    object_type STRING COMMENT 'Object Type (data, file, table…)',\n",
    "    object_validation_description STRING NOT NULL COMMENT 'Object Validation Description',\n",
    "    object_name STRING NOT NULL COMMENT 'Object name to be validated',\n",
    "    validation_rule_code STRING COMMENT 'Validation rule Code (date_format, null, etc)',\n",
    "    validation_rule_detail STRING COMMENT 'Validation rule detail (expressions or values necessary for validation)',\n",
    "    master_table_name STRING COMMENT 'For Business Validations table to validate against with',\n",
    "    reject_all INT DEFAULT 0 NOT NULL COMMENT 'If not pass this validation reject all records',\n",
    "    sys_status_code STRING DEFAULT 'A' NOT NULL COMMENT 'System Row Status Code',\n",
    "    sys_created_by_name STRING DEFAULT 'MANUAL INSERT' NOT NULL COMMENT 'System Created by Name',\n",
    "    sys_created_on TIMESTAMP DEFAULT current_timestamp() NOT NULL COMMENT 'System Created on',\n",
    "    sys_modified_by_name STRING DEFAULT 'MANUAL INSERT' NOT NULL COMMENT 'System Modifed by Name',\n",
    "    sys_modified_on TIMESTAMP DEFAULT current_timestamp() NOT NULL COMMENT 'System Modified on'\n",
    ")\n",
    "USING DELTA\n",
    "LOCATION 's3://latam-md-finance-control/object_validation'\n",
    "TBLPROPERTIES ('delta.feature.allowColumnDefaults' = 'supported');"
   ]
  },
  {
   "cell_type": "code",
   "execution_count": 0,
   "metadata": {
    "application/vnd.databricks.v1+cell": {
     "cellMetadata": {
      "byteLimit": 2048000,
      "implicitDf": true,
      "rowLimit": 10000
     },
     "inputWidgets": {},
     "nuid": "4828af9f-64f6-438e-b3b4-1c9fcc164a09",
     "showTitle": false,
     "tableResultSettingsMap": {},
     "title": ""
    }
   },
   "outputs": [],
   "source": [
    "%sql\n",
    "insert into `latam-md-finance`.control.object_validation(\n",
    "     fk_process_setup_id\n",
    "    ,object_validation_type\n",
    "    ,object_type\n",
    "    ,object_validation_description\n",
    "    ,object_name\n",
    "    ,validation_rule_code\n",
    "    ,validation_rule_detail\n",
    "    ,master_table_name\n",
    "    ,reject_all\n",
    ")\n",
    "values(2,'PH','data','Invalid DataType','POSTING_DATE', 'date_format','yyyyMMdd',null,1)\n",
    ",(2,'PH','data','Missing Value','POSTING_DATE','not_null',null,null,1)\n",
    ",(2,'PH','data','Missing Value','SOURCE_SYSTEM_CODE','not_null',null,null,1)\n",
    ",(2,'PH','data','Invalid DataType','EXPENSE_AMOUNT_LC','numeric_format','decimal(15,5)',null,0)\n",
    ",(2,'PH','data','Missing Value','POSTING_DOC_LINE_NUMBER','numeric_format','integer',null,0)\n",
    ",(2,'PH','data','Value Out of Range','POSTING_DATE','out_of_range','< ORIG_DOC_ENTRY_DATE',null,0)\n",
    ",(2,'BS','data','Missing Cross Reference','VENDOR_CODE','cross_reference','VDR_LD_CD','mdo.dev.ldt_vendor',0)\n",
    "\n",
    "\n"
   ]
  },
  {
   "cell_type": "markdown",
   "metadata": {
    "application/vnd.databricks.v1+cell": {
     "cellMetadata": {},
     "inputWidgets": {},
     "nuid": "2dd80b3c-aecd-47ab-a76a-aa0d1970b2a4",
     "showTitle": false,
     "tableResultSettingsMap": {},
     "title": ""
    }
   },
   "source": [
    "**FINANCE**"
   ]
  },
  {
   "cell_type": "code",
   "execution_count": 0,
   "metadata": {
    "application/vnd.databricks.v1+cell": {
     "cellMetadata": {
      "byteLimit": 2048000,
      "rowLimit": 10000
     },
     "inputWidgets": {},
     "nuid": "043f15ae-b470-4181-bc7a-94b32ed2998b",
     "showTitle": false,
     "tableResultSettingsMap": {},
     "title": ""
    }
   },
   "outputs": [],
   "source": [
    "#CREATE TABLE - Bronze - tb_fin_variable_cost_act\n",
    "from pyspark.sql.types import StructType, StructField, StringType, TimestampType\n",
    "\n",
    "schema = StructType([\n",
    "    StructField(\"SOURCE_SYSTEM_CODE\", StringType(), nullable=True),\n",
    "    StructField(\"COMPANY_CODE\", StringType(), nullable=True),\n",
    "    StructField(\"POSTING_DATE\", StringType(), nullable=True),\n",
    "    StructField(\"POSTING_DOC_TYPE\", StringType(), nullable=True),\n",
    "    StructField(\"POSTING_DOC_NUMBER\", StringType(), nullable=True),\n",
    "    StructField(\"POSTING_DOC_LINE_NUMBER\", StringType(), nullable=True),\n",
    "    StructField(\"POSTING_TEXT\", StringType(), nullable=True),\n",
    "    StructField(\"ORIG_DOC_ENTRY_DATE\", StringType(), nullable=True),\n",
    "    StructField(\"ORIG_DOC_ISSUE_DATE\", StringType(), nullable=True),\n",
    "    StructField(\"REVERSE_POSTING_DOC_NUMBER\", StringType(), nullable=True),\n",
    "    StructField(\"COST_CENTER_CODE\", StringType(), nullable=True),\n",
    "    StructField(\"SAP_ACCOUNT_CODE\", StringType(), nullable=True),\n",
    "    StructField(\"SAP_ACCOUNT_NAME\", StringType(), nullable=True),\n",
    "    StructField(\"OFF_SAP_ACCOUNT_CODE\", StringType(), nullable=True),\n",
    "    StructField(\"OFF_SAP_ACCOUNT_NAME\", StringType(), nullable=True),\n",
    "    StructField(\"TRANS_CURRENCY_CODE\", StringType(), nullable=True),\n",
    "    StructField(\"LOCAL_CURRENCY_CODE\", StringType(), nullable=True),\n",
    "    StructField(\"USER_NAME\", StringType(), nullable=True),\n",
    "    StructField(\"EXPENSE_AMOUNT_LC\", StringType(), nullable=True),\n",
    "    StructField(\"EXPENSE_AMOUNT_TC\", StringType(), nullable=True),\n",
    "    StructField(\"TRANS_UM_CODE\", StringType(), nullable=True),\n",
    "    StructField(\"EXPENSE_QTY_TRANS_UM\", StringType(), nullable=True),\n",
    "    StructField(\"VENDOR_CODE\", StringType(), nullable=True),\n",
    "    StructField(\"VENDOR_NAME\", StringType(), nullable=True),\n",
    "    StructField(\"COST_CENTER_NAME\", StringType(), nullable=True),\n",
    "    StructField(\"CCT_TYPE_LD_CD\", StringType(), nullable=True),\n",
    "    StructField(\"DW_ROW_STAT_CD\", StringType()),\n",
    "    StructField(\"DW_ISRT_TS\", TimestampType()),\n",
    "    StructField(\"DW_UPDT_TS\", TimestampType())\n",
    "])\n",
    "\n",
    "# create empty table\n",
    "empty_df = spark.createDataFrame([], schema)\n",
    "empty_df.write.format(\"delta\").mode(\"overwrite\").save('s3://latam-md-finance-bronze/tb_fin_variable_cost_act')\n",
    "\n"
   ]
  },
  {
   "cell_type": "code",
   "execution_count": 0,
   "metadata": {
    "application/vnd.databricks.v1+cell": {
     "cellMetadata": {
      "byteLimit": 2048000,
      "rowLimit": 10000
     },
     "inputWidgets": {},
     "nuid": "e418beaf-2078-46e2-bb14-f39e3ff5b218",
     "showTitle": false,
     "tableResultSettingsMap": {},
     "title": ""
    }
   },
   "outputs": [],
   "source": [
    "table = \"`latam-md-finance`.bronze.tb_fin_variable_cost_act\"\n",
    "path = \"s3://latam-md-finance-bronze/tb_fin_variable_cost_act\"\n",
    "spark.sql(\"CREATE TABLE IF NOT EXISTS \" + table + \" USING DELTA LOCATION '\" +  path + \"'\")\n"
   ]
  },
  {
   "cell_type": "code",
   "execution_count": 0,
   "metadata": {
    "application/vnd.databricks.v1+cell": {
     "cellMetadata": {
      "byteLimit": 2048000,
      "implicitDf": true,
      "rowLimit": 10000
     },
     "inputWidgets": {},
     "nuid": "0e667854-907c-4771-8e6c-8f29b2c04a31",
     "showTitle": false,
     "tableResultSettingsMap": {},
     "title": ""
    }
   },
   "outputs": [],
   "source": [
    "%sql \n",
    "--Add comments & defaults\n",
    "ALTER TABLE `latam-md-finance`.bronze.tb_fin_variable_cost_act\n",
    "SET TBLPROPERTIES ('delta.feature.allowColumnDefaults' = 'supported');\n",
    "\n",
    "ALTER TABLE `latam-md-finance`.bronze.tb_fin_variable_cost_act\n",
    "ALTER COLUMN DW_ROW_STAT_CD SET DEFAULT 'A';\n",
    "\n",
    "ALTER TABLE `latam-md-finance`.bronze.tb_fin_variable_cost_act\n",
    "ALTER COLUMN DW_ISRT_TS SET DEFAULT getdate();\n",
    "\n",
    "ALTER TABLE `latam-md-finance`.bronze.tb_fin_variable_cost_act\n",
    "ALTER COLUMN DW_UPDT_TS SET DEFAULT getdate();\n",
    "\n",
    "\n",
    "ALTER TABLE `latam-md-finance`.bronze.tb_fin_variable_cost_act CHANGE COLUMN SOURCE_SYSTEM_CODE SOURCE_SYSTEM_CODE STRING COMMENT 'Local System Code where the data have been extracted (it could be used to differentiate potential equal code with different meaning). Possible values: SAPBR, SAP1C';\n",
    "ALTER TABLE `latam-md-finance`.bronze.tb_fin_variable_cost_act CHANGE COLUMN COMPANY_CODE COMPANY_CODE STRING COMMENT 'Company Code according to Prysmian Group';\n",
    "ALTER TABLE `latam-md-finance`.bronze.tb_fin_variable_cost_act CHANGE COLUMN POSTING_DATE POSTING_DATE STRING COMMENT 'Posting Date → Reference date (both for ETL and Reporting)';\n",
    "ALTER TABLE `latam-md-finance`.bronze.tb_fin_variable_cost_act CHANGE COLUMN POSTING_DOC_TYPE POSTING_DOC_TYPE STRING COMMENT 'Posting Document Type';\n",
    "ALTER TABLE `latam-md-finance`.bronze.tb_fin_variable_cost_act CHANGE COLUMN POSTING_DOC_NUMBER POSTING_DOC_NUMBER STRING COMMENT 'Reference Document Number (Posting)';\n",
    "ALTER TABLE `latam-md-finance`.bronze.tb_fin_variable_cost_act CHANGE COLUMN POSTING_DOC_LINE_NUMBER POSTING_DOC_LINE_NUMBER STRING COMMENT 'Posting Document Line Number';\n",
    "ALTER TABLE `latam-md-finance`.bronze.tb_fin_variable_cost_act CHANGE COLUMN POSTING_TEXT POSTING_TEXT STRING COMMENT 'Posting Text';\n",
    "ALTER TABLE `latam-md-finance`.bronze.tb_fin_variable_cost_act CHANGE COLUMN ORIG_DOC_ENTRY_DATE ORIG_DOC_ENTRY_DATE STRING COMMENT 'Document Entry Date';\n",
    "ALTER TABLE `latam-md-finance`.bronze.tb_fin_variable_cost_act CHANGE COLUMN ORIG_DOC_ISSUE_DATE ORIG_DOC_ISSUE_DATE STRING COMMENT 'Document Issue Date';\n",
    "ALTER TABLE `latam-md-finance`.bronze.tb_fin_variable_cost_act CHANGE COLUMN REVERSE_POSTING_DOC_NUMBER REVERSE_POSTING_DOC_NUMBER STRING COMMENT 'Reverse Reference Document Number (Posting)';\n",
    "ALTER TABLE `latam-md-finance`.bronze.tb_fin_variable_cost_act CHANGE COLUMN COST_CENTER_CODE COST_CENTER_CODE STRING COMMENT 'Cost Center Code';\n",
    "ALTER TABLE `latam-md-finance`.bronze.tb_fin_variable_cost_act CHANGE COLUMN SAP_ACCOUNT_CODE SAP_ACCOUNT_CODE STRING COMMENT 'SAP Account Code';\n",
    "ALTER TABLE `latam-md-finance`.bronze.tb_fin_variable_cost_act CHANGE COLUMN SAP_ACCOUNT_NAME SAP_ACCOUNT_NAME STRING COMMENT 'SAP Account Description';\n",
    "ALTER TABLE `latam-md-finance`.bronze.tb_fin_variable_cost_act CHANGE COLUMN OFF_SAP_ACCOUNT_CODE OFF_SAP_ACCOUNT_CODE STRING COMMENT 'Offsetting SAP Account Code';\n",
    "ALTER TABLE `latam-md-finance`.bronze.tb_fin_variable_cost_act CHANGE COLUMN OFF_SAP_ACCOUNT_NAME OFF_SAP_ACCOUNT_NAME STRING COMMENT 'Offsetting SAP Account Description';\n",
    "ALTER TABLE `latam-md-finance`.bronze.tb_fin_variable_cost_act CHANGE COLUMN TRANS_CURRENCY_CODE TRANS_CURRENCY_CODE STRING COMMENT 'Transaction Currency Code';\n",
    "ALTER TABLE `latam-md-finance`.bronze.tb_fin_variable_cost_act CHANGE COLUMN LOCAL_CURRENCY_CODE LOCAL_CURRENCY_CODE STRING COMMENT 'Local Currency Code';\n",
    "ALTER TABLE `latam-md-finance`.bronze.tb_fin_variable_cost_act CHANGE COLUMN USER_NAME USER_NAME STRING COMMENT 'User Name';\n",
    "ALTER TABLE `latam-md-finance`.bronze.tb_fin_variable_cost_act CHANGE COLUMN EXPENSE_AMOUNT_LC EXPENSE_AMOUNT_LC STRING COMMENT 'Expense in Local Currency (Value/Obj. Crcy)';\n",
    "ALTER TABLE `latam-md-finance`.bronze.tb_fin_variable_cost_act CHANGE COLUMN EXPENSE_AMOUNT_TC EXPENSE_AMOUNT_TC STRING COMMENT 'Expense in Transaction Currency';\n",
    "ALTER TABLE `latam-md-finance`.bronze.tb_fin_variable_cost_act CHANGE COLUMN TRANS_UM_CODE TRANS_UM_CODE STRING COMMENT 'Transaction Unit of Measure Code';\n",
    "ALTER TABLE `latam-md-finance`.bronze.tb_fin_variable_cost_act CHANGE COLUMN EXPENSE_QTY_TRANS_UM EXPENSE_QTY_TRANS_UM STRING COMMENT 'Good Receipt Quantity Stocking (Base) UoM';\n",
    "ALTER TABLE `latam-md-finance`.bronze.tb_fin_variable_cost_act CHANGE COLUMN VENDOR_CODE VENDOR_CODE STRING COMMENT 'Vendor Code';\n",
    "ALTER TABLE `latam-md-finance`.bronze.tb_fin_variable_cost_act CHANGE COLUMN VENDOR_NAME VENDOR_NAME STRING COMMENT 'Master information: Vendor Name';\n",
    "ALTER TABLE `latam-md-finance`.bronze.tb_fin_variable_cost_act CHANGE COLUMN COST_CENTER_NAME COST_CENTER_NAME STRING COMMENT 'Cost Center Name';\n",
    "ALTER TABLE `latam-md-finance`.bronze.tb_fin_variable_cost_act CHANGE COLUMN CCT_TYPE_LD_CD CCT_TYPE_LD_CD STRING COMMENT 'Master information: Cost Center Type Code → It indicates which ones have been included in this extract';\n",
    "ALTER TABLE `latam-md-finance`.bronze.tb_fin_variable_cost_act CHANGE COLUMN DW_ROW_STAT_CD DW_ROW_STAT_CD STRING COMMENT 'Row status';\n",
    "ALTER TABLE `latam-md-finance`.bronze.tb_fin_variable_cost_act CHANGE COLUMN DW_ISRT_TS DW_ISRT_TS TIMESTAMP COMMENT 'Insert Row timestamp';\n",
    "ALTER TABLE `latam-md-finance`.bronze.tb_fin_variable_cost_act CHANGE COLUMN DW_UPDT_TS DW_UPDT_TS TIMESTAMP COMMENT 'Update Row timestamp';\n",
    "\n"
   ]
  }
 ],
 "metadata": {
  "application/vnd.databricks.v1+notebook": {
   "computePreferences": {
    "hardware": {
     "accelerator": null,
     "gpuPoolId": null,
     "memory": null
    }
   },
   "dashboards": [],
   "environmentMetadata": {
    "base_environment": "",
    "environment_version": "3"
   },
   "inputWidgetPreferences": null,
   "language": "python",
   "notebookMetadata": {
    "mostRecentlyExecutedCommandWithImplicitDF": {
     "commandId": 5765419454842496,
     "dataframes": [
      "_sqldf"
     ]
    },
    "pythonIndentUnit": 4
   },
   "notebookName": "Objects Creation",
   "widgets": {}
  },
  "language_info": {
   "name": "python"
  }
 },
 "nbformat": 4,
 "nbformat_minor": 0
}
