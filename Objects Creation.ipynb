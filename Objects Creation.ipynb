{
 "cells": [
  {
   "cell_type": "code",
   "execution_count": 0,
   "metadata": {
    "application/vnd.databricks.v1+cell": {
     "cellMetadata": {
      "byteLimit": 2048000,
      "implicitDf": true,
      "rowLimit": 10000
     },
     "inputWidgets": {},
     "nuid": "8d00efcc-541e-4b53-8411-7010a5ea97a9",
     "showTitle": false,
     "tableResultSettingsMap": {},
     "title": ""
    }
   },
   "outputs": [],
   "source": [
    "%sql\n",
    "/****************************************************************/\n",
    "/* SCHEMAS                                                      */\n",
    "/****************************************************************/\n",
    "CREATE SCHEMA IF NOT EXISTS `latam-md-finance`.test4;\n",
    "CREATE SCHEMA IF NOT EXISTS `latam-md-finance`.control;\n",
    "CREATE SCHEMA IF NOT EXISTS `latam-md-finance`.bronze;"
   ]
  },
  {
   "cell_type": "code",
   "execution_count": 0,
   "metadata": {
    "application/vnd.databricks.v1+cell": {
     "cellMetadata": {
      "byteLimit": 2048000,
      "rowLimit": 10000
     },
     "inputWidgets": {},
     "nuid": "86b09c34-4c12-4f0b-bfd1-2bbc734c852c",
     "showTitle": false,
     "tableResultSettingsMap": {},
     "title": ""
    }
   },
   "outputs": [],
   "source": [
    "#***************************************************************/\n",
    "# CONTROL                                                      */\n",
    "#***************************************************************/\n",
    "\n",
    "#CREATE TABLE - Control - sys_process_source\n",
    "from pyspark.sql.types import StructType, StructField, StringType, TimestampType\n",
    "\n",
    "schema = StructType([\n",
    "    StructField(\"fileName\", StringType(), nullable=True),\n",
    "    StructField(\"sourceFolder\", StringType(), nullable=True),\n",
    "    StructField(\"fileExtension\", StringType(), nullable=True),\n",
    "    StructField(\"fileDelimiter\", StringType(), nullable=True),\n",
    "    StructField(\"fileNameMask\", StringType(), nullable=True),\n",
    "    StructField(\"fileEncoding\", StringType(), nullable=True),\n",
    "    StructField(\"fileCatalog\", StringType(), nullable=True),\n",
    "    StructField(\"fileSchema\", StringType(), nullable=True),\n",
    "    StructField(\"tableName\", StringType(), nullable=True),\n",
    "    StructField(\"sys_statusCode\", StringType(), nullable=True),\n",
    "    StructField(\"sys_createdByName\", StringType()),\n",
    "    StructField(\"sys_createdOn\", TimestampType()),\n",
    "    StructField(\"sys_modifiedByName\", StringType()),\n",
    "    StructField(\"sys_modifiedOn\", TimestampType())\n",
    "])\n",
    "\n",
    "# create empty table\n",
    "empty_df = spark.createDataFrame([], schema)\n",
    "empty_df.write.format(\"delta\").saveAsTable(\"`latam-md-finance`.control.sys_process_source\")\n"
   ]
  },
  {
   "cell_type": "code",
   "execution_count": 0,
   "metadata": {
    "application/vnd.databricks.v1+cell": {
     "cellMetadata": {
      "byteLimit": 2048000,
      "implicitDf": true,
      "rowLimit": 10000
     },
     "inputWidgets": {},
     "nuid": "2af6e773-3363-46e0-90f2-78fb2d4c3b85",
     "showTitle": false,
     "tableResultSettingsMap": {},
     "title": ""
    }
   },
   "outputs": [],
   "source": [
    "%sql \n",
    "--Add comments & defaults\n",
    "ALTER TABLE `latam-md-finance`.control.sys_process_source\n",
    "SET TBLPROPERTIES ('delta.feature.allowColumnDefaults' = 'supported');\n",
    "\n",
    "ALTER TABLE `latam-md-finance`.control.sys_process_source\n",
    "ALTER COLUMN sys_createdOn SET DEFAULT getdate();\n",
    "\n",
    "ALTER TABLE `latam-md-finance`.control.sys_process_source\n",
    "ALTER COLUMN sys_modifiedOn SET DEFAULT getdate();\n",
    "\n",
    "\n",
    "ALTER TABLE `latam-md-finance`.control.sys_process_source CHANGE COLUMN fileName fileName STRING COMMENT 'File or process Name (Natural Key)';\n",
    "ALTER TABLE `latam-md-finance`.control.sys_process_source CHANGE COLUMN sourceFolder sourceFolder STRING COMMENT 'Source Folder name/path';\n",
    "ALTER TABLE `latam-md-finance`.control.sys_process_source CHANGE COLUMN fileExtension fileExtension STRING COMMENT 'File Extension';\n",
    "ALTER TABLE `latam-md-finance`.control.sys_process_source CHANGE COLUMN fileDelimiter fileDelimiter STRING COMMENT 'File Delimiter';\n",
    "ALTER TABLE `latam-md-finance`.control.sys_process_source CHANGE COLUMN fileNameMask fileNameMask STRING COMMENT 'File Name Mask';\n",
    "ALTER TABLE `latam-md-finance`.control.sys_process_source CHANGE COLUMN fileEncoding fileEncoding STRING COMMENT 'File Encoding';\n",
    "ALTER TABLE `latam-md-finance`.control.sys_process_source CHANGE COLUMN fileCatalog fileCatalog STRING COMMENT 'Catalog';\n",
    "ALTER TABLE `latam-md-finance`.control.sys_process_source CHANGE COLUMN fileSchema fileSchema STRING COMMENT 'Source Schema - in schema file';\n",
    "ALTER TABLE `latam-md-finance`.control.sys_process_source CHANGE COLUMN tableName tableName STRING COMMENT 'Target table name';\n",
    "ALTER TABLE `latam-md-finance`.control.sys_process_source CHANGE COLUMN sys_statusCode sys_statusCode STRING COMMENT 'System Row Status Code';\n",
    "ALTER TABLE `latam-md-finance`.control.sys_process_source CHANGE COLUMN sys_createdByName sys_createdByName STRING COMMENT 'System Created by Name';\n",
    "ALTER TABLE `latam-md-finance`.control.sys_process_source CHANGE COLUMN sys_createdOn sys_createdOn TIMESTAMP COMMENT 'System Created on';\n",
    "ALTER TABLE `latam-md-finance`.control.sys_process_source CHANGE COLUMN sys_modifiedByName sys_modifiedByName STRING COMMENT 'System Modified by Name';\n",
    "ALTER TABLE `latam-md-finance`.control.sys_process_source CHANGE COLUMN sys_modifiedOn sys_modifiedOn TIMESTAMP COMMENT 'System Modified on';"
   ]
  },
  {
   "cell_type": "code",
   "execution_count": 0,
   "metadata": {
    "application/vnd.databricks.v1+cell": {
     "cellMetadata": {
      "byteLimit": 2048000,
      "implicitDf": true,
      "rowLimit": 10000
     },
     "inputWidgets": {},
     "nuid": "d349c022-2715-46eb-a63d-071519372a97",
     "showTitle": false,
     "tableResultSettingsMap": {},
     "title": ""
    }
   },
   "outputs": [],
   "source": [
    "%sql\n",
    "\n",
    "insert into `latam-md-finance`.control.sys_process_source (fileName,sourceFolder,fileExtension,fileDelimiter,fileNameMask,fileEncoding,fileCatalog,fileSchema,tableName,sys_statusCode,sys_createdByName,sys_modifiedByName)\n",
    "values('tdf_fin_variable_cost_act','raw','txt','\\\\t','{fileName}_{sourceSystem}_{yyyymmdd}_{hhmmss}.{fileExtension}','ISO-8859-1','latam-md-finance','fin-act-raw','tb_fin_variable_cost_act','A','vicky','vicky');"
   ]
  },
  {
   "cell_type": "code",
   "execution_count": 0,
   "metadata": {
    "application/vnd.databricks.v1+cell": {
     "cellMetadata": {
      "byteLimit": 2048000,
      "rowLimit": 10000
     },
     "inputWidgets": {},
     "nuid": "043f15ae-b470-4181-bc7a-94b32ed2998b",
     "showTitle": false,
     "tableResultSettingsMap": {},
     "title": ""
    }
   },
   "outputs": [],
   "source": [
    "#***************************************************************/\n",
    "# FINANCE                                                      */\n",
    "#***************************************************************/\n",
    "\n",
    "#CREATE TABLE - Bronze - tb_fin_variable_cost_act\n",
    "from pyspark.sql.types import StructType, StructField, StringType, TimestampType\n",
    "\n",
    "schema = StructType([\n",
    "    StructField(\"SOURCE_SYSTEM_CODE\", StringType(), nullable=True),\n",
    "    StructField(\"COMPANY_CODE\", StringType(), nullable=True),\n",
    "    StructField(\"POSTING_DATE\", StringType(), nullable=True),\n",
    "    StructField(\"POSTING_DOC_TYPE\", StringType(), nullable=True),\n",
    "    StructField(\"POSTING_DOC_NUMBER\", StringType(), nullable=True),\n",
    "    StructField(\"POSTING_DOC_LINE_NUMBER\", StringType(), nullable=True),\n",
    "    StructField(\"POSTING_TEXT\", StringType(), nullable=True),\n",
    "    StructField(\"ORIG_DOC_ENTRY_DATE\", StringType(), nullable=True),\n",
    "    StructField(\"ORIG_DOC_ISSUE_DATE\", StringType(), nullable=True),\n",
    "    StructField(\"REVERSE_POSTING_DOC_NUMBER\", StringType(), nullable=True),\n",
    "    StructField(\"COST_CENTER_CODE\", StringType(), nullable=True),\n",
    "    StructField(\"SAP_ACCOUNT_CODE\", StringType(), nullable=True),\n",
    "    StructField(\"SAP_ACCOUNT_NAME\", StringType(), nullable=True),\n",
    "    StructField(\"OFF_SAP_ACCOUNT_CODE\", StringType(), nullable=True),\n",
    "    StructField(\"OFF_SAP_ACCOUNT_NAME\", StringType(), nullable=True),\n",
    "    StructField(\"TRANS_CURRENCY_CODE\", StringType(), nullable=True),\n",
    "    StructField(\"LOCAL_CURRENCY_CODE\", StringType(), nullable=True),\n",
    "    StructField(\"USER_NAME\", StringType(), nullable=True),\n",
    "    StructField(\"EXPENSE_AMOUNT_LC\", StringType(), nullable=True),\n",
    "    StructField(\"EXPENSE_AMOUNT_TC\", StringType(), nullable=True),\n",
    "    StructField(\"TRANS_UM_CODE\", StringType(), nullable=True),\n",
    "    StructField(\"EXPENSE_QTY_TRANS_UM\", StringType(), nullable=True),\n",
    "    StructField(\"VENDOR_CODE\", StringType(), nullable=True),\n",
    "    StructField(\"VENDOR_NAME\", StringType(), nullable=True),\n",
    "    StructField(\"COST_CENTER_NAME\", StringType(), nullable=True),\n",
    "    StructField(\"CCT_TYPE_LD_CD\", StringType(), nullable=True),\n",
    "    StructField(\"DW_ROW_STAT_CD\", StringType()),\n",
    "    StructField(\"DW_ISRT_TS\", TimestampType()),\n",
    "    StructField(\"DW_UPDT_TS\", TimestampType())\n",
    "])\n",
    "\n",
    "# create empty table\n",
    "empty_df = spark.createDataFrame([], schema)\n",
    "empty_df.write.format(\"delta\").mode(\"overwrite\").save('s3://latam-md-finance-bronze/tb_fin_variable_cost_act')\n",
    "\n"
   ]
  },
  {
   "cell_type": "code",
   "execution_count": 0,
   "metadata": {
    "application/vnd.databricks.v1+cell": {
     "cellMetadata": {
      "byteLimit": 2048000,
      "rowLimit": 10000
     },
     "inputWidgets": {},
     "nuid": "e418beaf-2078-46e2-bb14-f39e3ff5b218",
     "showTitle": false,
     "tableResultSettingsMap": {},
     "title": ""
    }
   },
   "outputs": [],
   "source": [
    "table = \"`latam-md-finance`.bronze.tb_fin_variable_cost_act\"\n",
    "path = \"s3://latam-md-finance-bronze/tb_fin_variable_cost_act\"\n",
    "spark.sql(\"CREATE TABLE IF NOT EXISTS \" + table + \" USING DELTA LOCATION '\" +  path + \"'\")\n"
   ]
  },
  {
   "cell_type": "code",
   "execution_count": 0,
   "metadata": {
    "application/vnd.databricks.v1+cell": {
     "cellMetadata": {
      "byteLimit": 2048000,
      "implicitDf": true,
      "rowLimit": 10000
     },
     "inputWidgets": {},
     "nuid": "0e667854-907c-4771-8e6c-8f29b2c04a31",
     "showTitle": false,
     "tableResultSettingsMap": {},
     "title": ""
    }
   },
   "outputs": [],
   "source": [
    "%sql \n",
    "--Add comments & defaults\n",
    "ALTER TABLE `latam-md-finance`.bronze.tb_fin_variable_cost_act\n",
    "SET TBLPROPERTIES ('delta.feature.allowColumnDefaults' = 'supported');\n",
    "\n",
    "ALTER TABLE `latam-md-finance`.bronze.tb_fin_variable_cost_act\n",
    "ALTER COLUMN DW_ROW_STAT_CD SET DEFAULT 'A';\n",
    "\n",
    "ALTER TABLE `latam-md-finance`.bronze.tb_fin_variable_cost_act\n",
    "ALTER COLUMN DW_ISRT_TS SET DEFAULT getdate();\n",
    "\n",
    "ALTER TABLE `latam-md-finance`.bronze.tb_fin_variable_cost_act\n",
    "ALTER COLUMN DW_UPDT_TS SET DEFAULT getdate();\n",
    "\n",
    "\n",
    "ALTER TABLE `latam-md-finance`.bronze.tb_fin_variable_cost_act CHANGE COLUMN SOURCE_SYSTEM_CODE SOURCE_SYSTEM_CODE STRING COMMENT 'Local System Code where the data have been extracted (it could be used to differentiate potential equal code with different meaning). Possible values: SAPBR, SAP1C';\n",
    "ALTER TABLE `latam-md-finance`.bronze.tb_fin_variable_cost_act CHANGE COLUMN COMPANY_CODE COMPANY_CODE STRING COMMENT 'Company Code according to Prysmian Group';\n",
    "ALTER TABLE `latam-md-finance`.bronze.tb_fin_variable_cost_act CHANGE COLUMN POSTING_DATE POSTING_DATE STRING COMMENT 'Posting Date → Reference date (both for ETL and Reporting)';\n",
    "ALTER TABLE `latam-md-finance`.bronze.tb_fin_variable_cost_act CHANGE COLUMN POSTING_DOC_TYPE POSTING_DOC_TYPE STRING COMMENT 'Posting Document Type';\n",
    "ALTER TABLE `latam-md-finance`.bronze.tb_fin_variable_cost_act CHANGE COLUMN POSTING_DOC_NUMBER POSTING_DOC_NUMBER STRING COMMENT 'Reference Document Number (Posting)';\n",
    "ALTER TABLE `latam-md-finance`.bronze.tb_fin_variable_cost_act CHANGE COLUMN POSTING_DOC_LINE_NUMBER POSTING_DOC_LINE_NUMBER STRING COMMENT 'Posting Document Line Number';\n",
    "ALTER TABLE `latam-md-finance`.bronze.tb_fin_variable_cost_act CHANGE COLUMN POSTING_TEXT POSTING_TEXT STRING COMMENT 'Posting Text';\n",
    "ALTER TABLE `latam-md-finance`.bronze.tb_fin_variable_cost_act CHANGE COLUMN ORIG_DOC_ENTRY_DATE ORIG_DOC_ENTRY_DATE STRING COMMENT 'Document Entry Date';\n",
    "ALTER TABLE `latam-md-finance`.bronze.tb_fin_variable_cost_act CHANGE COLUMN ORIG_DOC_ISSUE_DATE ORIG_DOC_ISSUE_DATE STRING COMMENT 'Document Issue Date';\n",
    "ALTER TABLE `latam-md-finance`.bronze.tb_fin_variable_cost_act CHANGE COLUMN REVERSE_POSTING_DOC_NUMBER REVERSE_POSTING_DOC_NUMBER STRING COMMENT 'Reverse Reference Document Number (Posting)';\n",
    "ALTER TABLE `latam-md-finance`.bronze.tb_fin_variable_cost_act CHANGE COLUMN COST_CENTER_CODE COST_CENTER_CODE STRING COMMENT 'Cost Center Code';\n",
    "ALTER TABLE `latam-md-finance`.bronze.tb_fin_variable_cost_act CHANGE COLUMN SAP_ACCOUNT_CODE SAP_ACCOUNT_CODE STRING COMMENT 'SAP Account Code';\n",
    "ALTER TABLE `latam-md-finance`.bronze.tb_fin_variable_cost_act CHANGE COLUMN SAP_ACCOUNT_NAME SAP_ACCOUNT_NAME STRING COMMENT 'SAP Account Description';\n",
    "ALTER TABLE `latam-md-finance`.bronze.tb_fin_variable_cost_act CHANGE COLUMN OFF_SAP_ACCOUNT_CODE OFF_SAP_ACCOUNT_CODE STRING COMMENT 'Offsetting SAP Account Code';\n",
    "ALTER TABLE `latam-md-finance`.bronze.tb_fin_variable_cost_act CHANGE COLUMN OFF_SAP_ACCOUNT_NAME OFF_SAP_ACCOUNT_NAME STRING COMMENT 'Offsetting SAP Account Description';\n",
    "ALTER TABLE `latam-md-finance`.bronze.tb_fin_variable_cost_act CHANGE COLUMN TRANS_CURRENCY_CODE TRANS_CURRENCY_CODE STRING COMMENT 'Transaction Currency Code';\n",
    "ALTER TABLE `latam-md-finance`.bronze.tb_fin_variable_cost_act CHANGE COLUMN LOCAL_CURRENCY_CODE LOCAL_CURRENCY_CODE STRING COMMENT 'Local Currency Code';\n",
    "ALTER TABLE `latam-md-finance`.bronze.tb_fin_variable_cost_act CHANGE COLUMN USER_NAME USER_NAME STRING COMMENT 'User Name';\n",
    "ALTER TABLE `latam-md-finance`.bronze.tb_fin_variable_cost_act CHANGE COLUMN EXPENSE_AMOUNT_LC EXPENSE_AMOUNT_LC STRING COMMENT 'Expense in Local Currency (Value/Obj. Crcy)';\n",
    "ALTER TABLE `latam-md-finance`.bronze.tb_fin_variable_cost_act CHANGE COLUMN EXPENSE_AMOUNT_TC EXPENSE_AMOUNT_TC STRING COMMENT 'Expense in Transaction Currency';\n",
    "ALTER TABLE `latam-md-finance`.bronze.tb_fin_variable_cost_act CHANGE COLUMN TRANS_UM_CODE TRANS_UM_CODE STRING COMMENT 'Transaction Unit of Measure Code';\n",
    "ALTER TABLE `latam-md-finance`.bronze.tb_fin_variable_cost_act CHANGE COLUMN EXPENSE_QTY_TRANS_UM EXPENSE_QTY_TRANS_UM STRING COMMENT 'Good Receipt Quantity Stocking (Base) UoM';\n",
    "ALTER TABLE `latam-md-finance`.bronze.tb_fin_variable_cost_act CHANGE COLUMN VENDOR_CODE VENDOR_CODE STRING COMMENT 'Vendor Code';\n",
    "ALTER TABLE `latam-md-finance`.bronze.tb_fin_variable_cost_act CHANGE COLUMN VENDOR_NAME VENDOR_NAME STRING COMMENT 'Master information: Vendor Name';\n",
    "ALTER TABLE `latam-md-finance`.bronze.tb_fin_variable_cost_act CHANGE COLUMN COST_CENTER_NAME COST_CENTER_NAME STRING COMMENT 'Cost Center Name';\n",
    "ALTER TABLE `latam-md-finance`.bronze.tb_fin_variable_cost_act CHANGE COLUMN CCT_TYPE_LD_CD CCT_TYPE_LD_CD STRING COMMENT 'Master information: Cost Center Type Code → It indicates which ones have been included in this extract';\n",
    "ALTER TABLE `latam-md-finance`.bronze.tb_fin_variable_cost_act CHANGE COLUMN DW_ROW_STAT_CD DW_ROW_STAT_CD STRING COMMENT 'Row status';\n",
    "ALTER TABLE `latam-md-finance`.bronze.tb_fin_variable_cost_act CHANGE COLUMN DW_ISRT_TS DW_ISRT_TS TIMESTAMP COMMENT 'Insert Row timestamp';\n",
    "ALTER TABLE `latam-md-finance`.bronze.tb_fin_variable_cost_act CHANGE COLUMN DW_UPDT_TS DW_UPDT_TS TIMESTAMP COMMENT 'Update Row timestamp';\n",
    "\n"
   ]
  }
 ],
 "metadata": {
  "application/vnd.databricks.v1+notebook": {
   "computePreferences": null,
   "dashboards": [],
   "environmentMetadata": {
    "base_environment": "",
    "environment_version": "3"
   },
   "inputWidgetPreferences": null,
   "language": "python",
   "notebookMetadata": {
    "mostRecentlyExecutedCommandWithImplicitDF": {
     "commandId": 8924493487898868,
     "dataframes": [
      "_sqldf"
     ]
    },
    "pythonIndentUnit": 4
   },
   "notebookName": "Objects Creation",
   "widgets": {}
  },
  "language_info": {
   "name": "python"
  }
 },
 "nbformat": 4,
 "nbformat_minor": 0
}
